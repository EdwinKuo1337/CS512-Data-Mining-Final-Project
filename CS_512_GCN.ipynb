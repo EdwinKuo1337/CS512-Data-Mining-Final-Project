{
  "nbformat": 4,
  "nbformat_minor": 0,
  "metadata": {
    "colab": {
      "provenance": []
    },
    "kernelspec": {
      "name": "python3",
      "display_name": "Python 3"
    },
    "language_info": {
      "name": "python"
    },
    "accelerator": "GPU",
    "gpuClass": "standard"
  },
  "cells": [
    {
      "cell_type": "code",
      "execution_count": 1,
      "metadata": {
        "id": "_hLh2USaVa60",
        "colab": {
          "base_uri": "https://localhost:8080/"
        },
        "outputId": "71bd9d55-2de8-47d9-ddf3-292f164a3df6"
      },
      "outputs": [
        {
          "output_type": "stream",
          "name": "stdout",
          "text": [
            "Python 3.8.15\n"
          ]
        }
      ],
      "source": [
        "!python --version"
      ]
    },
    {
      "cell_type": "code",
      "source": [
        "!python -c \"import torch; print(torch.__version__)\""
      ],
      "metadata": {
        "id": "bATEUkwAXsam",
        "colab": {
          "base_uri": "https://localhost:8080/"
        },
        "outputId": "fa889765-2ee7-4a5b-9038-457385a5321e"
      },
      "execution_count": 2,
      "outputs": [
        {
          "output_type": "stream",
          "name": "stdout",
          "text": [
            "1.12.1+cu113\n"
          ]
        }
      ]
    },
    {
      "cell_type": "code",
      "source": [
        "!python -c \"import torch; print(torch.version.cuda)\""
      ],
      "metadata": {
        "id": "yGJ2d0YXYKb1",
        "colab": {
          "base_uri": "https://localhost:8080/"
        },
        "outputId": "c62c45f9-c271-4ea0-d563-f5b6f0ca9b06"
      },
      "execution_count": 3,
      "outputs": [
        {
          "output_type": "stream",
          "name": "stdout",
          "text": [
            "11.3\n"
          ]
        }
      ]
    },
    {
      "cell_type": "code",
      "source": [
        "!pip install pyg-lib torch-scatter torch-sparse -f https://data.pyg.org/whl/torch-1.12.1+cu113.html\n",
        "!pip install torch-geometric"
      ],
      "metadata": {
        "colab": {
          "base_uri": "https://localhost:8080/",
          "height": 952
        },
        "id": "KJ4wZZSrVer8",
        "outputId": "e4eb07da-51ec-468c-c488-23b0a9520565"
      },
      "execution_count": 4,
      "outputs": [
        {
          "output_type": "stream",
          "name": "stdout",
          "text": [
            "Looking in indexes: https://pypi.org/simple, https://us-python.pkg.dev/colab-wheels/public/simple/\n",
            "Looking in links: https://data.pyg.org/whl/torch-1.12.1+cu113.html\n",
            "Collecting pyg-lib\n",
            "  Downloading https://data.pyg.org/whl/torch-1.12.0%2Bcu113/pyg_lib-0.1.0%2Bpt112cu113-cp38-cp38-linux_x86_64.whl (1.9 MB)\n",
            "\u001b[K     |████████████████████████████████| 1.9 MB 31.2 MB/s \n",
            "\u001b[?25hCollecting torch-scatter\n",
            "  Downloading https://data.pyg.org/whl/torch-1.12.0%2Bcu113/torch_scatter-2.1.0%2Bpt112cu113-cp38-cp38-linux_x86_64.whl (8.9 MB)\n",
            "\u001b[K     |████████████████████████████████| 8.9 MB 69.0 MB/s \n",
            "\u001b[?25hCollecting torch-sparse\n",
            "  Downloading https://data.pyg.org/whl/torch-1.12.0%2Bcu113/torch_sparse-0.6.15%2Bpt112cu113-cp38-cp38-linux_x86_64.whl (3.5 MB)\n",
            "\u001b[K     |████████████████████████████████| 3.5 MB 73.7 MB/s \n",
            "\u001b[?25hRequirement already satisfied: scipy in /usr/local/lib/python3.8/dist-packages (from torch-sparse) (1.7.3)\n",
            "Requirement already satisfied: numpy<1.23.0,>=1.16.5 in /usr/local/lib/python3.8/dist-packages (from scipy->torch-sparse) (1.21.6)\n",
            "Installing collected packages: torch-sparse, torch-scatter, pyg-lib\n",
            "Successfully installed pyg-lib-0.1.0+pt112cu113 torch-scatter-2.1.0+pt112cu113 torch-sparse-0.6.15+pt112cu113\n",
            "Looking in indexes: https://pypi.org/simple, https://us-python.pkg.dev/colab-wheels/public/simple/\n",
            "Collecting torch-geometric\n",
            "  Downloading torch_geometric-2.2.0.tar.gz (564 kB)\n",
            "\u001b[K     |████████████████████████████████| 564 kB 25.2 MB/s \n",
            "\u001b[?25hRequirement already satisfied: tqdm in /usr/local/lib/python3.8/dist-packages (from torch-geometric) (4.64.1)\n",
            "Requirement already satisfied: numpy in /usr/local/lib/python3.8/dist-packages (from torch-geometric) (1.21.6)\n",
            "Requirement already satisfied: scipy in /usr/local/lib/python3.8/dist-packages (from torch-geometric) (1.7.3)\n",
            "Requirement already satisfied: jinja2 in /usr/local/lib/python3.8/dist-packages (from torch-geometric) (2.11.3)\n",
            "Requirement already satisfied: requests in /usr/local/lib/python3.8/dist-packages (from torch-geometric) (2.23.0)\n",
            "Requirement already satisfied: pyparsing in /usr/local/lib/python3.8/dist-packages (from torch-geometric) (3.0.9)\n",
            "Requirement already satisfied: scikit-learn in /usr/local/lib/python3.8/dist-packages (from torch-geometric) (1.0.2)\n",
            "Collecting psutil>=5.8.0\n",
            "  Downloading psutil-5.9.4-cp36-abi3-manylinux_2_12_x86_64.manylinux2010_x86_64.manylinux_2_17_x86_64.manylinux2014_x86_64.whl (280 kB)\n",
            "\u001b[K     |████████████████████████████████| 280 kB 76.4 MB/s \n",
            "\u001b[?25hRequirement already satisfied: MarkupSafe>=0.23 in /usr/local/lib/python3.8/dist-packages (from jinja2->torch-geometric) (2.0.1)\n",
            "Requirement already satisfied: idna<3,>=2.5 in /usr/local/lib/python3.8/dist-packages (from requests->torch-geometric) (2.10)\n",
            "Requirement already satisfied: urllib3!=1.25.0,!=1.25.1,<1.26,>=1.21.1 in /usr/local/lib/python3.8/dist-packages (from requests->torch-geometric) (1.24.3)\n",
            "Requirement already satisfied: chardet<4,>=3.0.2 in /usr/local/lib/python3.8/dist-packages (from requests->torch-geometric) (3.0.4)\n",
            "Requirement already satisfied: certifi>=2017.4.17 in /usr/local/lib/python3.8/dist-packages (from requests->torch-geometric) (2022.9.24)\n",
            "Requirement already satisfied: joblib>=0.11 in /usr/local/lib/python3.8/dist-packages (from scikit-learn->torch-geometric) (1.2.0)\n",
            "Requirement already satisfied: threadpoolctl>=2.0.0 in /usr/local/lib/python3.8/dist-packages (from scikit-learn->torch-geometric) (3.1.0)\n",
            "Building wheels for collected packages: torch-geometric\n",
            "  Building wheel for torch-geometric (setup.py) ... \u001b[?25l\u001b[?25hdone\n",
            "  Created wheel for torch-geometric: filename=torch_geometric-2.2.0-py3-none-any.whl size=773302 sha256=1a1c75f843c9799a2371d6c81978bf8226af75a52b2946d1008f6f515aa3ec3b\n",
            "  Stored in directory: /root/.cache/pip/wheels/59/a3/20/198928106d3169865ae73afcbd3d3d1796cf6b429b55c65378\n",
            "Successfully built torch-geometric\n",
            "Installing collected packages: psutil, torch-geometric\n",
            "  Attempting uninstall: psutil\n",
            "    Found existing installation: psutil 5.4.8\n",
            "    Uninstalling psutil-5.4.8:\n",
            "      Successfully uninstalled psutil-5.4.8\n",
            "Successfully installed psutil-5.9.4 torch-geometric-2.2.0\n"
          ]
        },
        {
          "output_type": "display_data",
          "data": {
            "application/vnd.colab-display-data+json": {
              "pip_warning": {
                "packages": [
                  "psutil"
                ]
              }
            }
          },
          "metadata": {}
        }
      ]
    },
    {
      "cell_type": "code",
      "source": [
        "import torch\n",
        "import torch.nn as nn\n",
        "import torch.nn.functional as F\n",
        "from torch_geometric.nn import GCNConv\n",
        "\n",
        "class GraphNet(nn.Module):\n",
        "    def __init__(self):\n",
        "      super(GraphNet, self).__init__()\n",
        "      self.conv1 = GCNConv(64, 32) # first skip through conv1\n",
        "      self.shortcut1 = nn.Conv1d(64, 32, kernel_size=1, stride=1, bias=False)\n",
        "      \n",
        "      self.conv2 = GCNConv(32, 16)\n",
        "      \n",
        "      \n",
        "      self.conv3 = GCNConv(16, 16) # second skip through conv3\n",
        "      self.shortcut2 = nn.Conv1d(16, 16, kernel_size=1, stride=1, bias=False)\n",
        "      \n",
        "      self.conv4 = GCNConv(16, 16)\n",
        "      \n",
        "      # self.fc1 = nn.Linear(1026*64, 4096)\n",
        "      self.fc2 = nn.Linear(1026*16, 1026)\n",
        "\n",
        "    # x represents our data\n",
        "    def forward(self, x, edge_index):\n",
        "      # Flatten x with start_dim=1\n",
        "      dim0, dim1, dim2 = x.shape[0], x.shape[1], x.shape[2] #[16, 1026, 64]\n",
        "      input = x.reshape(dim0*dim1, -1, 1)\n",
        "      x = x.reshape(dim0*dim1,-1) #[16*1026, 64]\n",
        "      # print('input shape = ', input.shape) #(1026, 16*64)\n",
        "      # print('edge_index shape = ', edge_index.shape)\n",
        "      x = F.relu(self.conv1(x, edge_index)) #[16*1026, 32]\n",
        "      x = F.dropout(x, training=self.training)\n",
        "      # print('x shape = ', x.shape) #(1026, 512)\n",
        "      skip = self.shortcut1(input).reshape(dim0*dim1,-1) #[dim0*dim1, 32]\n",
        "      x2 = self.conv2(x+skip, edge_index) \n",
        "      x2 = F.relu(x2) #[16*1026, 16]\n",
        "      # print('x2 = ', x2.shape)\n",
        "      x3 = F.relu(self.conv3(x2, edge_index))\n",
        "      skip2 = self.shortcut2(x2.reshape(dim0*dim1, -1, 1)).reshape(dim0*dim1,-1)\n",
        "\n",
        "      x4 = F.relu(self.conv4(x3+skip2, edge_index).reshape(dim0,-1))\n",
        "      # print(x.shape)\n",
        "      x = torch.flatten(x4, 1) #[16,1026*32]\n",
        "      # print(x.shape)\n",
        "      # Pass data through fc1\n",
        "      # x = self.fc1(x)\n",
        "      # print(x.shape)\n",
        "      # x = F.relu(x)\n",
        "      # print(x.shape)\n",
        "      pred = self.fc2(x).reshape(dim0, -1) #[16,1026]\n",
        "\n",
        "      return pred, x4\n",
        "\n",
        "net = GraphNet()\n",
        "criterion = nn.CrossEntropyLoss()\n",
        "mse = nn.MSELoss()\n",
        "optimizer = torch.optim.SGD(net.parameters(), lr=0.001, momentum=0.9)"
      ],
      "metadata": {
        "id": "6-FXrsp-XrL-"
      },
      "execution_count": 89,
      "outputs": []
    },
    {
      "cell_type": "code",
      "source": [
        "#import the libraries\n",
        "import torch\n",
        "from torch_geometric.data import Data\n",
        "\n",
        "# #making the edge \n",
        "# #the tensor defining the source and target nodes of all edges, is not a list of index tuples\n",
        "# edge_index = torch.tensor([[0, 1, 1, 2],\n",
        "#                            [1, 0, 2, 1]], dtype=torch.long)\n",
        "# #making nodes\n",
        "# #Node feature matrix with shape [num_nodes, num_node_features]\n",
        "# x = torch.tensor([[-1], [0], [1]], dtype=torch.float)\n",
        "# # edge_index = Graph connectivity in COO format with shape [2, num_edges]\n",
        "# data = Data(x=x, edge_index=edge_index)"
      ],
      "metadata": {
        "id": "yNpP7oFbZRP3"
      },
      "execution_count": 6,
      "outputs": []
    },
    {
      "cell_type": "code",
      "source": [
        "\n",
        "#optim = torch.optim.Adam(net.parameters(), lr=0.001)"
      ],
      "metadata": {
        "id": "h1HnIu15ZYKU"
      },
      "execution_count": 34,
      "outputs": []
    },
    {
      "cell_type": "code",
      "source": [
        "!git clone https://github.com/fulifeng/Temporal_Relational_Stock_Ranking"
      ],
      "metadata": {
        "colab": {
          "base_uri": "https://localhost:8080/"
        },
        "id": "NzqRFKU-72nT",
        "outputId": "22549192-431f-4d01-96e7-a6f7fb93d09a"
      },
      "execution_count": 8,
      "outputs": [
        {
          "output_type": "stream",
          "name": "stdout",
          "text": [
            "Cloning into 'Temporal_Relational_Stock_Ranking'...\n",
            "remote: Enumerating objects: 9134, done.\u001b[K\n",
            "remote: Counting objects: 100% (8/8), done.\u001b[K\n",
            "remote: Compressing objects: 100% (8/8), done.\u001b[K\n",
            "remote: Total 9134 (delta 0), reused 6 (delta 0), pack-reused 9126\u001b[K\n",
            "Receiving objects: 100% (9134/9134), 330.32 MiB | 9.81 MiB/s, done.\n",
            "Resolving deltas: 100% (46/46), done.\n",
            "Checking out files: 100% (11378/11378), done.\n"
          ]
        }
      ]
    },
    {
      "cell_type": "code",
      "source": [
        "!wget --load-cookies /tmp/cookies.txt \"https://docs.google.com/uc?export=download&confirm=$(wget --quiet --save-cookies /tmp/cookies.txt --keep-session-cookies --no-check-certificate 'https://docs.google.com/uc?export=download&id=1fyNCZ62pEItTQYEBzLwsZ9ehX_-Ai3qT' -O- | sed -rn 's/.*confirm=([0-9A-Za-z_]+).*/\\1\\n/p')&id=1fyNCZ62pEItTQYEBzLwsZ9ehX_-Ai3qT\" -O sequential_embedding.tar.gz && rm -rf /tmp/cookies.txt"
      ],
      "metadata": {
        "colab": {
          "base_uri": "https://localhost:8080/"
        },
        "id": "xNda7H_Y8ACk",
        "outputId": "ee901957-86ac-4169-fbfb-a4de5c78ce26"
      },
      "execution_count": 9,
      "outputs": [
        {
          "output_type": "stream",
          "name": "stdout",
          "text": [
            "--2022-12-06 01:43:20--  https://docs.google.com/uc?export=download&confirm=t&id=1fyNCZ62pEItTQYEBzLwsZ9ehX_-Ai3qT\n",
            "Resolving docs.google.com (docs.google.com)... 172.217.194.138, 172.217.194.139, 172.217.194.113, ...\n",
            "Connecting to docs.google.com (docs.google.com)|172.217.194.138|:443... connected.\n",
            "HTTP request sent, awaiting response... 303 See Other\n",
            "Location: https://doc-00-bg-docs.googleusercontent.com/docs/securesc/ha0ro937gcuc7l7deffksulhg5h7mbp1/p8s6ltt1a5rf6gpaqipppf8k7a5c1u4h/1670290950000/07300192544028358737/*/1fyNCZ62pEItTQYEBzLwsZ9ehX_-Ai3qT?e=download&uuid=3902b25f-3872-4f87-8ae3-9e087984ff37 [following]\n",
            "Warning: wildcards not supported in HTTP.\n",
            "--2022-12-06 01:43:21--  https://doc-00-bg-docs.googleusercontent.com/docs/securesc/ha0ro937gcuc7l7deffksulhg5h7mbp1/p8s6ltt1a5rf6gpaqipppf8k7a5c1u4h/1670290950000/07300192544028358737/*/1fyNCZ62pEItTQYEBzLwsZ9ehX_-Ai3qT?e=download&uuid=3902b25f-3872-4f87-8ae3-9e087984ff37\n",
            "Resolving doc-00-bg-docs.googleusercontent.com (doc-00-bg-docs.googleusercontent.com)... 142.251.12.132, 2404:6800:4003:c11::84\n",
            "Connecting to doc-00-bg-docs.googleusercontent.com (doc-00-bg-docs.googleusercontent.com)|142.251.12.132|:443... connected.\n",
            "HTTP request sent, awaiting response... 200 OK\n",
            "Length: 569780725 (543M) [application/gzip]\n",
            "Saving to: ‘sequential_embedding.tar.gz’\n",
            "\n",
            "sequential_embeddin 100%[===================>] 543.38M  39.9MB/s    in 14s     \n",
            "\n",
            "2022-12-06 01:43:36 (37.9 MB/s) - ‘sequential_embedding.tar.gz’ saved [569780725/569780725]\n",
            "\n"
          ]
        }
      ]
    },
    {
      "cell_type": "code",
      "source": [
        "!mv sequential_embedding.tar.gz Temporal_Relational_Stock_Ranking/data/\n",
        "!tar -xvf ./Temporal_Relational_Stock_Ranking/data/sequential_embedding.tar.gz"
      ],
      "metadata": {
        "colab": {
          "base_uri": "https://localhost:8080/"
        },
        "id": "8LiU0E3C8DBe",
        "outputId": "77bf052c-f7c4-42a6-e3f6-2f6892038c97"
      },
      "execution_count": 10,
      "outputs": [
        {
          "output_type": "stream",
          "name": "stdout",
          "text": [
            "pretrain/\n",
            "pretrain/NASDAQ_rank_lstm_seq-16_unit-64_2.csv.npy\n",
            "pretrain/NYSE_rank_lstm_seq-8_unit-32_0.csv.npy\n"
          ]
        }
      ]
    },
    {
      "cell_type": "code",
      "source": [
        "!mv ./pretrain ./Temporal_Relational_Stock_Ranking/data/"
      ],
      "metadata": {
        "id": "-uDwOYf28E6S"
      },
      "execution_count": 11,
      "outputs": []
    },
    {
      "cell_type": "code",
      "source": [
        "!tar zxvf ./Temporal_Relational_Stock_Ranking/data/relation.tar.gz"
      ],
      "metadata": {
        "colab": {
          "base_uri": "https://localhost:8080/"
        },
        "id": "Je8Ifcuw8Grm",
        "outputId": "35ca61a0-ecbd-427a-96bd-934e6110d792"
      },
      "execution_count": 12,
      "outputs": [
        {
          "output_type": "stream",
          "name": "stdout",
          "text": [
            "relation/\n",
            "relation/sector_industry/\n",
            "relation/sector_industry/NASDAQ_industry_ticker.json\n",
            "relation/sector_industry/NYSE_industry_ticker.json\n",
            "relation/sector_industry/NASDAQ_industry_relation.npy\n",
            "relation/sector_industry/NYSE_industry_relation.npy\n",
            "relation/wikidata/\n",
            "relation/wikidata/NASDAQ_wiki_relation.npy\n",
            "relation/wikidata/NYSE_wiki_relation.npy\n",
            "relation/wikidata/NYSE_connections.json\n",
            "relation/wikidata/NASDAQ_connections.json\n",
            "relation/wikidata/selected_wiki_connections.csv\n"
          ]
        }
      ]
    },
    {
      "cell_type": "code",
      "source": [
        "!mv ./relation ./Temporal_Relational_Stock_Ranking/data/"
      ],
      "metadata": {
        "id": "KsAhma1k8JP5"
      },
      "execution_count": 13,
      "outputs": []
    },
    {
      "cell_type": "code",
      "source": [
        "import argparse\n",
        "import copy\n",
        "import numpy as np\n",
        "import os\n",
        "# import psutil\n",
        "import random\n",
        "import tensorflow as tf\n",
        "tf.compat.v1.disable_eager_execution()\n",
        "from time import time\n",
        "try:\n",
        "    from tensorflow.python.ops.nn_ops import leaky_relu\n",
        "except ImportError:\n",
        "    from tensorflow.python.framework import ops\n",
        "    from tensorflow.python.ops import math_ops\n",
        "\n",
        "\n",
        "    def leaky_relu(features, alpha=0.2, name=None):\n",
        "        with ops.name_scope(name, \"LeakyRelu\", [features, alpha]):\n",
        "            features = ops.convert_to_tensor(features, name=\"features\")\n",
        "            alpha = ops.convert_to_tensor(alpha, name=\"alpha\")\n",
        "            return math_ops.maximum(alpha * features, features)\n",
        "# import sys  \n",
        "# sys.path.insert(0, '/content/Temporal_Relational_Stock_Ranking')\n"
      ],
      "metadata": {
        "id": "0p-5c82r8MTe"
      },
      "execution_count": 14,
      "outputs": []
    },
    {
      "cell_type": "code",
      "source": [
        "!ln -s /content/Temporal_Relational_Stock_Ranking/training/load_data.py load_data.py\n",
        "!ln -s /content/Temporal_Relational_Stock_Ranking/training/evaluator.py evaluator.py"
      ],
      "metadata": {
        "id": "TQy3K6rR8PoD"
      },
      "execution_count": 15,
      "outputs": []
    },
    {
      "cell_type": "code",
      "source": [
        "seed = 123456789\n",
        "np.random.seed(seed)\n",
        "tf.random.set_seed(seed)"
      ],
      "metadata": {
        "id": "FId18NqU8T1N"
      },
      "execution_count": 16,
      "outputs": []
    },
    {
      "cell_type": "code",
      "source": [],
      "metadata": {
        "id": "ljcGWIKh8Wdd"
      },
      "execution_count": 16,
      "outputs": []
    },
    {
      "cell_type": "code",
      "source": [
        "\n",
        "from load_data import load_EOD_data, load_relation_data\n",
        "from evaluator import evaluate"
      ],
      "metadata": {
        "id": "agOoCi3o8RYt"
      },
      "execution_count": 17,
      "outputs": []
    },
    {
      "cell_type": "code",
      "source": [
        "desc = 'train a relational rank lstm model'\n",
        "path = '/content/Temporal_Relational_Stock_Ranking/training/../data/2013-01-01'\n",
        "market_name = 'NASDAQ'\n",
        "length = 16\n",
        "hidden_units = 64\n",
        "steps = 1\n",
        "lr = 0.001\n",
        "alpha = 0.1\n",
        "g_pu = 0\n",
        "emb_file = 'NASDAQ_rank_lstm_seq-16_unit-64_2.csv.npy'\n",
        "rel_name = 'wikidata'\n",
        "inner_prod = 0\n",
        "tickers = market_name + '_tickers_qualify_dr-0.98_min-5_smooth.csv'\n",
        "\n",
        "parameters = {'seq': int(length), 'unit': int(hidden_units), 'lr': float(lr),\n",
        "              'alpha': float(alpha)}\n",
        "# print('arguments:', args)\n",
        "print('parameters:', parameters)\n",
        "\n"
      ],
      "metadata": {
        "colab": {
          "base_uri": "https://localhost:8080/"
        },
        "id": "Y0XWon5z70MW",
        "outputId": "65efb1f7-6816-4880-a5cf-07a129bb9147"
      },
      "execution_count": 19,
      "outputs": [
        {
          "output_type": "stream",
          "name": "stdout",
          "text": [
            "parameters: {'seq': 16, 'unit': 64, 'lr': 0.001, 'alpha': 0.1}\n"
          ]
        }
      ]
    },
    {
      "cell_type": "code",
      "source": [
        "em = np.load(os.path.join(path, '..', 'pretrain', emb_file))\n",
        "print('embedding shape:', em.shape)\n",
        "# print(em)"
      ],
      "metadata": {
        "colab": {
          "base_uri": "https://localhost:8080/"
        },
        "id": "uYa3IIIT7zWJ",
        "outputId": "7e1e4e21-478b-4404-80bd-d2de2b7a9bd2"
      },
      "execution_count": 20,
      "outputs": [
        {
          "output_type": "stream",
          "name": "stdout",
          "text": [
            "embedding shape: (1026, 1245, 64)\n"
          ]
        }
      ]
    },
    {
      "cell_type": "code",
      "source": [
        "def load_EOD_data(data_path, market_name, tickers, steps=1):\n",
        "    eod_data = []\n",
        "    masks = []\n",
        "    ground_truth = []\n",
        "    base_price = []\n",
        "    for index, ticker in enumerate(tickers):\n",
        "        single_EOD = np.genfromtxt(\n",
        "            os.path.join(data_path, market_name + '_' + ticker + '_1.csv'),\n",
        "            dtype=np.float32, delimiter=',', skip_header=False\n",
        "        )\n",
        "        if market_name == 'NASDAQ':\n",
        "            # remove the last day since lots of missing data\n",
        "            single_EOD = single_EOD[:-1, :]\n",
        "        if index == 0:\n",
        "            print('single EOD data shape:', single_EOD.shape)\n",
        "            eod_data = np.zeros([len(tickers), single_EOD.shape[0],\n",
        "                                 single_EOD.shape[1] - 1], dtype=np.float32)\n",
        "            masks = np.ones([len(tickers), single_EOD.shape[0]],\n",
        "                            dtype=np.float32)\n",
        "            ground_truth = np.zeros([len(tickers), single_EOD.shape[0]],\n",
        "                                    dtype=np.float32)\n",
        "            base_price = np.zeros([len(tickers), single_EOD.shape[0]],\n",
        "                                  dtype=np.float32)\n",
        "        for row in range(single_EOD.shape[0]):\n",
        "            if abs(single_EOD[row][-1] + 1234) < 1e-8:\n",
        "                masks[index][row] = 0.0\n",
        "            elif row > steps - 1 and abs(single_EOD[row - steps][-1] + 1234) \\\n",
        "                    > 1e-8:\n",
        "                ground_truth[index][row] = \\\n",
        "                    (single_EOD[row][-1] - single_EOD[row - steps][-1]) / \\\n",
        "                    single_EOD[row - steps][-1]\n",
        "            for col in range(single_EOD.shape[1]):\n",
        "                if abs(single_EOD[row][col] + 1234) < 1e-8:\n",
        "                    single_EOD[row][col] = 1.1\n",
        "        eod_data[index, :, :] = single_EOD[:, 1:]\n",
        "        base_price[index, :] = single_EOD[:, -1]\n",
        "    return eod_data, masks, ground_truth, base_price"
      ],
      "metadata": {
        "id": "LnvkgfNR7uc4"
      },
      "execution_count": 21,
      "outputs": []
    },
    {
      "cell_type": "code",
      "source": [
        "import os\n",
        "import pandas as pd\n",
        "from torchvision.io import read_image\n",
        "from torch.utils.data import Dataset\n",
        "\n",
        "class CustomDataset(Dataset):\n",
        "    def __init__(self, path, emb_file, tickers, start, end):\n",
        "        self.embedding = np.load(os.path.join(path, '..', 'pretrain', emb_file))[:, start:end, :]\n",
        "        self.ticker = np.genfromtxt(os.path.join(path, '..', tickers), dtype=str, delimiter='\\t', skip_header=False)\n",
        "        _, self.mask, self.gt, self.price_data = load_EOD_data(path, 'NASDAQ', self.ticker)\n",
        "        self.mask = self.mask[:, start:end]\n",
        "        self.gt = self.gt[:, start:end]\n",
        "        self.price_data = self.price_data[:, start:end]\n",
        "        print('mask shape = ', self.mask.shape)\n",
        "        print('gt shape = ', self.gt.shape)\n",
        "        print('price_data shape = ', self.price_data.shape)\n",
        "\n",
        "    def __len__(self):\n",
        "        return len(self.embedding[0])\n",
        "\n",
        "    def __getitem__(self, idx):\n",
        "        emb = self.embedding[:, idx]\n",
        "        label = self.gt[:, idx]\n",
        "        price = self.price_data[:, idx]\n",
        "        mask = self.mask[:, idx]\n",
        "        return emb, label, price, mask"
      ],
      "metadata": {
        "id": "Wnmb0DNg7pj0"
      },
      "execution_count": 22,
      "outputs": []
    },
    {
      "cell_type": "code",
      "source": [
        "batch_size = 16\n",
        "\n",
        "trainset = CustomDataset(path=path, emb_file=emb_file, tickers=tickers, start=0, end=756)\n",
        "\n",
        "trainloader = torch.utils.data.DataLoader(trainset, batch_size=batch_size,\n",
        "                                          shuffle=True, num_workers=2)\n",
        "\n",
        "testset = CustomDataset(path=path, emb_file=emb_file, tickers=tickers, start=756, end=1008)\n",
        "testloader = torch.utils.data.DataLoader(testset, batch_size=batch_size,\n",
        "                                          shuffle=True, num_workers=2)"
      ],
      "metadata": {
        "colab": {
          "base_uri": "https://localhost:8080/"
        },
        "id": "5CWpgkqC7lTF",
        "outputId": "e509d060-96d8-4126-852a-dee8f600db96"
      },
      "execution_count": 23,
      "outputs": [
        {
          "output_type": "stream",
          "name": "stdout",
          "text": [
            "single EOD data shape: (1245, 6)\n",
            "mask shape =  (1026, 756)\n",
            "gt shape =  (1026, 756)\n",
            "price_data shape =  (1026, 756)\n",
            "single EOD data shape: (1245, 6)\n",
            "mask shape =  (1026, 252)\n",
            "gt shape =  (1026, 252)\n",
            "price_data shape =  (1026, 252)\n"
          ]
        }
      ]
    },
    {
      "cell_type": "code",
      "source": [
        "import torch.optim as optim\n",
        "from tqdm import tqdm"
      ],
      "metadata": {
        "id": "LsEROSSe8948"
      },
      "execution_count": 24,
      "outputs": []
    },
    {
      "cell_type": "code",
      "source": [
        "\n",
        "relation_encoding = np.load('/content/Temporal_Relational_Stock_Ranking/data/relation/sector_industry/NASDAQ_industry_relation.npy')\n",
        "\n",
        "rel_shape = [relation_encoding.shape[0],relation_encoding.shape[1]]\n",
        "# combine all the graphs to one graph\n",
        "graph_flags = np.equal(np.zeros(rel_shape, dtype=int),\n",
        "                          np.sum(relation_encoding, axis=2))\n",
        "graph = np.where(graph_flags, np.zeros(rel_shape), np.ones(rel_shape))\n",
        "# calculate the edge_index\n",
        "edge_index = [[],[]]\n",
        "for i in range(len(graph)):\n",
        "  for j in range(len(graph[0])):\n",
        "    if graph[i,j] == 1:\n",
        "      edge_index[0].append(i)\n",
        "      edge_index[1].append(j)\n",
        "\n"
      ],
      "metadata": {
        "id": "lEzNEhZA-d4f"
      },
      "execution_count": 72,
      "outputs": []
    },
    {
      "cell_type": "code",
      "source": [
        "relation_encoding_wiki = np.load('/content/Temporal_Relational_Stock_Ranking/data/relation/wikidata/NASDAQ_wiki_relation.npy')\n",
        "rel_shape_wiki = [relation_encoding_wiki.shape[0],relation_encoding_wiki.shape[1]]\n",
        "# combine all the graphs to one graph\n",
        "graph_flags_wiki = np.equal(np.zeros(rel_shape_wiki, dtype=int),\n",
        "                          np.sum(relation_encoding_wiki, axis=2))\n",
        "graph_wiki = np.where(graph_flags_wiki, np.zeros(rel_shape_wiki), np.ones(rel_shape_wiki))\n",
        "\n",
        "for i in range(len(graph_wiki)):\n",
        "  for j in range(len(graph_wiki[0])):\n",
        "    if graph_wiki[i,j] == 1:\n",
        "      edge_index[0].append(i)\n",
        "      edge_index[1].append(j)\n",
        "\n",
        "edge_index = np.array(edge_index)\n",
        "print(edge_index.shape) #(2, 53612)"
      ],
      "metadata": {
        "colab": {
          "base_uri": "https://localhost:8080/"
        },
        "id": "P6226kWuPTXj",
        "outputId": "620a2036-b54f-4dd0-cf37-98c27cecb598"
      },
      "execution_count": 73,
      "outputs": [
        {
          "output_type": "stream",
          "name": "stdout",
          "text": [
            "(2, 56575)\n"
          ]
        }
      ]
    },
    {
      "cell_type": "code",
      "source": [
        "# device = torch.device(\"cuda:0\" if torch.cuda.is_available() else \"cpu\")\n",
        "device = \"cpu\"\n",
        "edge_index = torch.tensor(edge_index).to(device)\n",
        "for epoch in range(100):  # loop over the dataset multiple times\n",
        "    running_loss = 0.0\n",
        "    for i, data in tqdm(enumerate(trainloader, 0)):\n",
        "        # get the inputs; data is a list of [inputs, labels]\n",
        "        # data = data.to(device)\n",
        "        inputs, labels, price, mask = data\n",
        "        inputs = inputs.to(device)\n",
        "        labels = labels.to(device)\n",
        "        price = price.to(device)\n",
        "        mask = mask.to(device)\n",
        "        all_one = torch.ones((inputs.shape[0], 1)).to(device)\n",
        "        # zero the parameter gradients\n",
        "        optimizer.zero_grad()\n",
        "\n",
        "        # forward + backward + optimize\n",
        "        # print(inputs.get_device())\n",
        "        # print(edge_index.get_device())\n",
        "        # print(inputs.shape)\n",
        "        outputs, output_feature = net(inputs, edge_index)\n",
        "        # print(price.shape)\n",
        "        return_ratio = torch.divide(torch.subtract(outputs, price), price)\n",
        "        reg_loss = mse(labels,return_ratio)\n",
        "        pre_pw_dif = torch.subtract(\n",
        "            torch.matmul(return_ratio.T, all_one),\n",
        "            torch.matmul(all_one.T, return_ratio)\n",
        "        )\n",
        "        gt_pw_dif = torch.subtract(\n",
        "            torch.matmul(all_one.T, labels),\n",
        "            torch.matmul(labels.T, all_one)\n",
        "        )\n",
        "        mask_pw = torch.matmul(mask.T, mask)\n",
        "        a = F.relu( torch.multiply( torch.multiply(pre_pw_dif, gt_pw_dif), mask_pw ) )\n",
        "        # print(a.numpy())\n",
        "        rank_loss = np.mean(a.cpu().detach().numpy())\n",
        "        loss = reg_loss + 0.1 * rank_loss\n",
        "        # loss = criterion(outputs, labels)\n",
        "        loss.backward()\n",
        "        optimizer.step()\n",
        "\n",
        "        # print statistics\n",
        "        running_loss += loss.item()\n",
        "    \n",
        "    print(f'[{epoch + 1}] loss: {running_loss}')\n",
        "\n",
        "\n",
        "print('Finished Training')\n",
        "torch.save(net.state_dict(), 'graph_model1_weight.pt')"
      ],
      "metadata": {
        "colab": {
          "base_uri": "https://localhost:8080/"
        },
        "id": "Sm9uuGcNZf4R",
        "outputId": "6cc564dd-576c-4ede-cb8e-e08929bc69ed"
      },
      "execution_count": 90,
      "outputs": [
        {
          "output_type": "stream",
          "name": "stderr",
          "text": [
            "<ipython-input-90-97246a776d6a>:3: UserWarning: To copy construct from a tensor, it is recommended to use sourceTensor.clone().detach() or sourceTensor.clone().detach().requires_grad_(True), rather than torch.tensor(sourceTensor).\n",
            "  edge_index = torch.tensor(edge_index).to(device)\n",
            "48it [00:11,  4.29it/s]"
          ]
        },
        {
          "output_type": "stream",
          "name": "stdout",
          "text": [
            "[1] loss: 43.72191862761974\n"
          ]
        },
        {
          "output_type": "stream",
          "name": "stderr",
          "text": [
            "\n",
            "48it [00:11,  4.23it/s]"
          ]
        },
        {
          "output_type": "stream",
          "name": "stdout",
          "text": [
            "[2] loss: 12.713349793106318\n"
          ]
        },
        {
          "output_type": "stream",
          "name": "stderr",
          "text": [
            "\n",
            "48it [00:11,  4.25it/s]"
          ]
        },
        {
          "output_type": "stream",
          "name": "stdout",
          "text": [
            "[3] loss: 7.091217592358589\n"
          ]
        },
        {
          "output_type": "stream",
          "name": "stderr",
          "text": [
            "\n",
            "48it [00:11,  4.29it/s]"
          ]
        },
        {
          "output_type": "stream",
          "name": "stdout",
          "text": [
            "[4] loss: 6.957730520516634\n"
          ]
        },
        {
          "output_type": "stream",
          "name": "stderr",
          "text": [
            "\n",
            "48it [00:11,  4.31it/s]"
          ]
        },
        {
          "output_type": "stream",
          "name": "stdout",
          "text": [
            "[5] loss: 6.685274764895439\n"
          ]
        },
        {
          "output_type": "stream",
          "name": "stderr",
          "text": [
            "\n",
            "48it [00:11,  4.30it/s]"
          ]
        },
        {
          "output_type": "stream",
          "name": "stdout",
          "text": [
            "[6] loss: 6.63092415034771\n"
          ]
        },
        {
          "output_type": "stream",
          "name": "stderr",
          "text": [
            "\n",
            "48it [00:11,  4.25it/s]"
          ]
        },
        {
          "output_type": "stream",
          "name": "stdout",
          "text": [
            "[7] loss: 6.140532307326794\n"
          ]
        },
        {
          "output_type": "stream",
          "name": "stderr",
          "text": [
            "\n",
            "48it [00:11,  4.31it/s]"
          ]
        },
        {
          "output_type": "stream",
          "name": "stdout",
          "text": [
            "[8] loss: 6.137343358248472\n"
          ]
        },
        {
          "output_type": "stream",
          "name": "stderr",
          "text": [
            "\n",
            "48it [00:11,  4.25it/s]"
          ]
        },
        {
          "output_type": "stream",
          "name": "stdout",
          "text": [
            "[9] loss: 6.036643855273724\n"
          ]
        },
        {
          "output_type": "stream",
          "name": "stderr",
          "text": [
            "\n",
            "48it [00:11,  4.27it/s]"
          ]
        },
        {
          "output_type": "stream",
          "name": "stdout",
          "text": [
            "[10] loss: 5.918064408004284\n"
          ]
        },
        {
          "output_type": "stream",
          "name": "stderr",
          "text": [
            "\n",
            "48it [00:11,  4.28it/s]"
          ]
        },
        {
          "output_type": "stream",
          "name": "stdout",
          "text": [
            "[11] loss: 5.704883597791195\n"
          ]
        },
        {
          "output_type": "stream",
          "name": "stderr",
          "text": [
            "\n",
            "48it [00:11,  4.26it/s]"
          ]
        },
        {
          "output_type": "stream",
          "name": "stdout",
          "text": [
            "[12] loss: 5.711490027606487\n"
          ]
        },
        {
          "output_type": "stream",
          "name": "stderr",
          "text": [
            "\n",
            "48it [00:11,  4.25it/s]"
          ]
        },
        {
          "output_type": "stream",
          "name": "stdout",
          "text": [
            "[13] loss: 5.5089771039783955\n"
          ]
        },
        {
          "output_type": "stream",
          "name": "stderr",
          "text": [
            "\n",
            "48it [00:11,  4.26it/s]"
          ]
        },
        {
          "output_type": "stream",
          "name": "stdout",
          "text": [
            "[14] loss: 5.3932360373437405\n"
          ]
        },
        {
          "output_type": "stream",
          "name": "stderr",
          "text": [
            "\n",
            "48it [00:11,  4.24it/s]"
          ]
        },
        {
          "output_type": "stream",
          "name": "stdout",
          "text": [
            "[15] loss: 5.301969617605209\n"
          ]
        },
        {
          "output_type": "stream",
          "name": "stderr",
          "text": [
            "\n",
            "48it [00:16,  2.88it/s]"
          ]
        },
        {
          "output_type": "stream",
          "name": "stdout",
          "text": [
            "[16] loss: 5.157934322953224\n"
          ]
        },
        {
          "output_type": "stream",
          "name": "stderr",
          "text": [
            "\n",
            "48it [00:24,  1.98it/s]"
          ]
        },
        {
          "output_type": "stream",
          "name": "stdout",
          "text": [
            "[17] loss: 4.748142890632153\n"
          ]
        },
        {
          "output_type": "stream",
          "name": "stderr",
          "text": [
            "\n",
            "48it [00:22,  2.17it/s]"
          ]
        },
        {
          "output_type": "stream",
          "name": "stdout",
          "text": [
            "[18] loss: 4.920390795916319\n"
          ]
        },
        {
          "output_type": "stream",
          "name": "stderr",
          "text": [
            "\n",
            "48it [00:22,  2.18it/s]"
          ]
        },
        {
          "output_type": "stream",
          "name": "stdout",
          "text": [
            "[19] loss: 4.732832834124565\n"
          ]
        },
        {
          "output_type": "stream",
          "name": "stderr",
          "text": [
            "\n",
            "48it [00:21,  2.19it/s]"
          ]
        },
        {
          "output_type": "stream",
          "name": "stdout",
          "text": [
            "[20] loss: 4.560069676488638\n"
          ]
        },
        {
          "output_type": "stream",
          "name": "stderr",
          "text": [
            "\n",
            "48it [00:21,  2.18it/s]"
          ]
        },
        {
          "output_type": "stream",
          "name": "stdout",
          "text": [
            "[21] loss: 4.473590990528464\n"
          ]
        },
        {
          "output_type": "stream",
          "name": "stderr",
          "text": [
            "\n",
            "48it [00:21,  2.19it/s]"
          ]
        },
        {
          "output_type": "stream",
          "name": "stdout",
          "text": [
            "[22] loss: 4.177300522103906\n"
          ]
        },
        {
          "output_type": "stream",
          "name": "stderr",
          "text": [
            "\n",
            "48it [00:21,  2.20it/s]"
          ]
        },
        {
          "output_type": "stream",
          "name": "stdout",
          "text": [
            "[23] loss: 4.21247442252934\n"
          ]
        },
        {
          "output_type": "stream",
          "name": "stderr",
          "text": [
            "\n",
            "48it [00:21,  2.20it/s]"
          ]
        },
        {
          "output_type": "stream",
          "name": "stdout",
          "text": [
            "[24] loss: 4.095419067889452\n"
          ]
        },
        {
          "output_type": "stream",
          "name": "stderr",
          "text": [
            "\n",
            "48it [00:21,  2.20it/s]"
          ]
        },
        {
          "output_type": "stream",
          "name": "stdout",
          "text": [
            "[25] loss: 4.0282508712261915\n"
          ]
        },
        {
          "output_type": "stream",
          "name": "stderr",
          "text": [
            "\n",
            "48it [00:21,  2.20it/s]"
          ]
        },
        {
          "output_type": "stream",
          "name": "stdout",
          "text": [
            "[26] loss: 3.7416979800909758\n"
          ]
        },
        {
          "output_type": "stream",
          "name": "stderr",
          "text": [
            "\n",
            "48it [00:21,  2.20it/s]"
          ]
        },
        {
          "output_type": "stream",
          "name": "stdout",
          "text": [
            "[27] loss: 3.9483395516872406\n"
          ]
        },
        {
          "output_type": "stream",
          "name": "stderr",
          "text": [
            "\n",
            "48it [00:21,  2.19it/s]"
          ]
        },
        {
          "output_type": "stream",
          "name": "stdout",
          "text": [
            "[28] loss: 3.7150590643286705\n"
          ]
        },
        {
          "output_type": "stream",
          "name": "stderr",
          "text": [
            "\n",
            "48it [00:21,  2.21it/s]"
          ]
        },
        {
          "output_type": "stream",
          "name": "stdout",
          "text": [
            "[29] loss: 3.6980460193008184\n"
          ]
        },
        {
          "output_type": "stream",
          "name": "stderr",
          "text": [
            "\n",
            "48it [00:23,  2.05it/s]"
          ]
        },
        {
          "output_type": "stream",
          "name": "stdout",
          "text": [
            "[30] loss: 3.4724467173218727\n"
          ]
        },
        {
          "output_type": "stream",
          "name": "stderr",
          "text": [
            "\n",
            "48it [00:21,  2.19it/s]"
          ]
        },
        {
          "output_type": "stream",
          "name": "stdout",
          "text": [
            "[31] loss: 3.339933142066002\n"
          ]
        },
        {
          "output_type": "stream",
          "name": "stderr",
          "text": [
            "\n",
            "48it [00:21,  2.21it/s]"
          ]
        },
        {
          "output_type": "stream",
          "name": "stdout",
          "text": [
            "[32] loss: 3.4157235212624073\n"
          ]
        },
        {
          "output_type": "stream",
          "name": "stderr",
          "text": [
            "\n",
            "48it [00:22,  2.18it/s]"
          ]
        },
        {
          "output_type": "stream",
          "name": "stdout",
          "text": [
            "[33] loss: 3.33064728602767\n"
          ]
        },
        {
          "output_type": "stream",
          "name": "stderr",
          "text": [
            "\n",
            "48it [00:21,  2.21it/s]"
          ]
        },
        {
          "output_type": "stream",
          "name": "stdout",
          "text": [
            "[34] loss: 3.341109650209546\n"
          ]
        },
        {
          "output_type": "stream",
          "name": "stderr",
          "text": [
            "\n",
            "48it [00:21,  2.19it/s]"
          ]
        },
        {
          "output_type": "stream",
          "name": "stdout",
          "text": [
            "[35] loss: 3.1197662986814976\n"
          ]
        },
        {
          "output_type": "stream",
          "name": "stderr",
          "text": [
            "\n",
            "48it [00:21,  2.19it/s]"
          ]
        },
        {
          "output_type": "stream",
          "name": "stdout",
          "text": [
            "[36] loss: 3.1722262240946293\n"
          ]
        },
        {
          "output_type": "stream",
          "name": "stderr",
          "text": [
            "\n",
            "48it [00:21,  2.21it/s]"
          ]
        },
        {
          "output_type": "stream",
          "name": "stdout",
          "text": [
            "[37] loss: 3.0904236417263746\n"
          ]
        },
        {
          "output_type": "stream",
          "name": "stderr",
          "text": [
            "\n",
            "48it [00:21,  2.20it/s]"
          ]
        },
        {
          "output_type": "stream",
          "name": "stdout",
          "text": [
            "[38] loss: 2.9856111519038677\n"
          ]
        },
        {
          "output_type": "stream",
          "name": "stderr",
          "text": [
            "\n",
            "48it [00:22,  2.18it/s]"
          ]
        },
        {
          "output_type": "stream",
          "name": "stdout",
          "text": [
            "[39] loss: 3.045909494161606\n"
          ]
        },
        {
          "output_type": "stream",
          "name": "stderr",
          "text": [
            "\n",
            "48it [00:21,  2.19it/s]"
          ]
        },
        {
          "output_type": "stream",
          "name": "stdout",
          "text": [
            "[40] loss: 2.970582000911236\n"
          ]
        },
        {
          "output_type": "stream",
          "name": "stderr",
          "text": [
            "\n",
            "48it [00:21,  2.19it/s]"
          ]
        },
        {
          "output_type": "stream",
          "name": "stdout",
          "text": [
            "[41] loss: 2.8829577565193176\n"
          ]
        },
        {
          "output_type": "stream",
          "name": "stderr",
          "text": [
            "\n",
            "48it [00:21,  2.19it/s]"
          ]
        },
        {
          "output_type": "stream",
          "name": "stdout",
          "text": [
            "[42] loss: 2.769059792160988\n"
          ]
        },
        {
          "output_type": "stream",
          "name": "stderr",
          "text": [
            "\n",
            "48it [00:23,  2.06it/s]"
          ]
        },
        {
          "output_type": "stream",
          "name": "stdout",
          "text": [
            "[43] loss: 2.856542369350791\n"
          ]
        },
        {
          "output_type": "stream",
          "name": "stderr",
          "text": [
            "\n",
            "48it [00:21,  2.18it/s]"
          ]
        },
        {
          "output_type": "stream",
          "name": "stdout",
          "text": [
            "[44] loss: 2.7649481371045113\n"
          ]
        },
        {
          "output_type": "stream",
          "name": "stderr",
          "text": [
            "\n",
            "48it [00:21,  2.19it/s]"
          ]
        },
        {
          "output_type": "stream",
          "name": "stdout",
          "text": [
            "[45] loss: 2.828029405325651\n"
          ]
        },
        {
          "output_type": "stream",
          "name": "stderr",
          "text": [
            "\n",
            "48it [00:22,  2.17it/s]"
          ]
        },
        {
          "output_type": "stream",
          "name": "stdout",
          "text": [
            "[46] loss: 2.7504870649427176\n"
          ]
        },
        {
          "output_type": "stream",
          "name": "stderr",
          "text": [
            "\n",
            "48it [00:22,  2.16it/s]"
          ]
        },
        {
          "output_type": "stream",
          "name": "stdout",
          "text": [
            "[47] loss: 2.711037816479802\n"
          ]
        },
        {
          "output_type": "stream",
          "name": "stderr",
          "text": [
            "\n",
            "48it [00:22,  2.17it/s]"
          ]
        },
        {
          "output_type": "stream",
          "name": "stdout",
          "text": [
            "[48] loss: 2.678611973300576\n"
          ]
        },
        {
          "output_type": "stream",
          "name": "stderr",
          "text": [
            "\n",
            "48it [00:22,  2.18it/s]"
          ]
        },
        {
          "output_type": "stream",
          "name": "stdout",
          "text": [
            "[49] loss: 2.6818891037255526\n"
          ]
        },
        {
          "output_type": "stream",
          "name": "stderr",
          "text": [
            "\n",
            "48it [00:21,  2.19it/s]"
          ]
        },
        {
          "output_type": "stream",
          "name": "stdout",
          "text": [
            "[50] loss: 2.6199837289750576\n"
          ]
        },
        {
          "output_type": "stream",
          "name": "stderr",
          "text": [
            "\n",
            "48it [00:21,  2.20it/s]"
          ]
        },
        {
          "output_type": "stream",
          "name": "stdout",
          "text": [
            "[51] loss: 2.59083566442132\n"
          ]
        },
        {
          "output_type": "stream",
          "name": "stderr",
          "text": [
            "\n",
            "48it [00:22,  2.17it/s]"
          ]
        },
        {
          "output_type": "stream",
          "name": "stdout",
          "text": [
            "[52] loss: 2.661713659763336\n"
          ]
        },
        {
          "output_type": "stream",
          "name": "stderr",
          "text": [
            "\n",
            "48it [00:21,  2.18it/s]"
          ]
        },
        {
          "output_type": "stream",
          "name": "stdout",
          "text": [
            "[53] loss: 2.56704761646688\n"
          ]
        },
        {
          "output_type": "stream",
          "name": "stderr",
          "text": [
            "\n",
            "48it [00:21,  2.19it/s]"
          ]
        },
        {
          "output_type": "stream",
          "name": "stdout",
          "text": [
            "[54] loss: 2.6194945462048054\n"
          ]
        },
        {
          "output_type": "stream",
          "name": "stderr",
          "text": [
            "\n",
            "48it [00:22,  2.18it/s]"
          ]
        },
        {
          "output_type": "stream",
          "name": "stdout",
          "text": [
            "[55] loss: 2.5661070700734854\n"
          ]
        },
        {
          "output_type": "stream",
          "name": "stderr",
          "text": [
            "\n",
            "48it [00:23,  2.06it/s]"
          ]
        },
        {
          "output_type": "stream",
          "name": "stdout",
          "text": [
            "[56] loss: 2.5628317641094327\n"
          ]
        },
        {
          "output_type": "stream",
          "name": "stderr",
          "text": [
            "\n",
            "48it [00:22,  2.17it/s]"
          ]
        },
        {
          "output_type": "stream",
          "name": "stdout",
          "text": [
            "[57] loss: 2.5319960098713636\n"
          ]
        },
        {
          "output_type": "stream",
          "name": "stderr",
          "text": [
            "\n",
            "48it [00:22,  2.18it/s]"
          ]
        },
        {
          "output_type": "stream",
          "name": "stdout",
          "text": [
            "[58] loss: 2.5200313813984394\n"
          ]
        },
        {
          "output_type": "stream",
          "name": "stderr",
          "text": [
            "\n",
            "48it [00:21,  2.19it/s]"
          ]
        },
        {
          "output_type": "stream",
          "name": "stdout",
          "text": [
            "[59] loss: 2.471007628366351\n"
          ]
        },
        {
          "output_type": "stream",
          "name": "stderr",
          "text": [
            "\n",
            "48it [00:21,  2.18it/s]"
          ]
        },
        {
          "output_type": "stream",
          "name": "stdout",
          "text": [
            "[60] loss: 2.5351615250110626\n"
          ]
        },
        {
          "output_type": "stream",
          "name": "stderr",
          "text": [
            "\n",
            "48it [00:21,  2.20it/s]"
          ]
        },
        {
          "output_type": "stream",
          "name": "stdout",
          "text": [
            "[61] loss: 2.617758095264435\n"
          ]
        },
        {
          "output_type": "stream",
          "name": "stderr",
          "text": [
            "\n",
            "48it [00:21,  2.20it/s]"
          ]
        },
        {
          "output_type": "stream",
          "name": "stdout",
          "text": [
            "[62] loss: 2.4514950243756175\n"
          ]
        },
        {
          "output_type": "stream",
          "name": "stderr",
          "text": [
            "\n",
            "48it [00:22,  2.18it/s]"
          ]
        },
        {
          "output_type": "stream",
          "name": "stdout",
          "text": [
            "[63] loss: 2.4282213924452662\n"
          ]
        },
        {
          "output_type": "stream",
          "name": "stderr",
          "text": [
            "\n",
            "48it [00:21,  2.19it/s]"
          ]
        },
        {
          "output_type": "stream",
          "name": "stdout",
          "text": [
            "[64] loss: 2.417028397321701\n"
          ]
        },
        {
          "output_type": "stream",
          "name": "stderr",
          "text": [
            "\n",
            "48it [00:22,  2.16it/s]"
          ]
        },
        {
          "output_type": "stream",
          "name": "stdout",
          "text": [
            "[65] loss: 2.517240966670215\n"
          ]
        },
        {
          "output_type": "stream",
          "name": "stderr",
          "text": [
            "\n",
            "48it [00:22,  2.16it/s]"
          ]
        },
        {
          "output_type": "stream",
          "name": "stdout",
          "text": [
            "[66] loss: 2.448100458830595\n"
          ]
        },
        {
          "output_type": "stream",
          "name": "stderr",
          "text": [
            "\n",
            "48it [00:21,  2.19it/s]"
          ]
        },
        {
          "output_type": "stream",
          "name": "stdout",
          "text": [
            "[67] loss: 2.438903773203492\n"
          ]
        },
        {
          "output_type": "stream",
          "name": "stderr",
          "text": [
            "\n",
            "48it [00:21,  2.20it/s]"
          ]
        },
        {
          "output_type": "stream",
          "name": "stdout",
          "text": [
            "[68] loss: 2.3921118080615997\n"
          ]
        },
        {
          "output_type": "stream",
          "name": "stderr",
          "text": [
            "\n",
            "48it [00:23,  2.07it/s]"
          ]
        },
        {
          "output_type": "stream",
          "name": "stdout",
          "text": [
            "[69] loss: 2.463905669748783\n"
          ]
        },
        {
          "output_type": "stream",
          "name": "stderr",
          "text": [
            "\n",
            "48it [00:21,  2.21it/s]"
          ]
        },
        {
          "output_type": "stream",
          "name": "stdout",
          "text": [
            "[70] loss: 2.3430916741490364\n"
          ]
        },
        {
          "output_type": "stream",
          "name": "stderr",
          "text": [
            "\n",
            "48it [00:21,  2.19it/s]"
          ]
        },
        {
          "output_type": "stream",
          "name": "stdout",
          "text": [
            "[71] loss: 2.327261408790946\n"
          ]
        },
        {
          "output_type": "stream",
          "name": "stderr",
          "text": [
            "\n",
            "48it [00:21,  2.20it/s]"
          ]
        },
        {
          "output_type": "stream",
          "name": "stdout",
          "text": [
            "[72] loss: 2.324656778946519\n"
          ]
        },
        {
          "output_type": "stream",
          "name": "stderr",
          "text": [
            "\n",
            "48it [00:21,  2.20it/s]"
          ]
        },
        {
          "output_type": "stream",
          "name": "stdout",
          "text": [
            "[73] loss: 2.408659840002656\n"
          ]
        },
        {
          "output_type": "stream",
          "name": "stderr",
          "text": [
            "\n",
            "48it [00:21,  2.20it/s]"
          ]
        },
        {
          "output_type": "stream",
          "name": "stdout",
          "text": [
            "[74] loss: 2.3174530090764165\n"
          ]
        },
        {
          "output_type": "stream",
          "name": "stderr",
          "text": [
            "\n",
            "48it [00:21,  2.22it/s]"
          ]
        },
        {
          "output_type": "stream",
          "name": "stdout",
          "text": [
            "[75] loss: 2.35826138779521\n"
          ]
        },
        {
          "output_type": "stream",
          "name": "stderr",
          "text": [
            "\n",
            "48it [00:21,  2.20it/s]"
          ]
        },
        {
          "output_type": "stream",
          "name": "stdout",
          "text": [
            "[76] loss: 2.3530034571886063\n"
          ]
        },
        {
          "output_type": "stream",
          "name": "stderr",
          "text": [
            "\n",
            "48it [00:21,  2.20it/s]"
          ]
        },
        {
          "output_type": "stream",
          "name": "stdout",
          "text": [
            "[77] loss: 2.2892881678417325\n"
          ]
        },
        {
          "output_type": "stream",
          "name": "stderr",
          "text": [
            "\n",
            "48it [00:21,  2.21it/s]"
          ]
        },
        {
          "output_type": "stream",
          "name": "stdout",
          "text": [
            "[78] loss: 2.2858979795128107\n"
          ]
        },
        {
          "output_type": "stream",
          "name": "stderr",
          "text": [
            "\n",
            "48it [00:21,  2.22it/s]"
          ]
        },
        {
          "output_type": "stream",
          "name": "stdout",
          "text": [
            "[79] loss: 2.267096777446568\n"
          ]
        },
        {
          "output_type": "stream",
          "name": "stderr",
          "text": [
            "\n",
            "48it [00:21,  2.19it/s]"
          ]
        },
        {
          "output_type": "stream",
          "name": "stdout",
          "text": [
            "[80] loss: 2.259422905743122\n"
          ]
        },
        {
          "output_type": "stream",
          "name": "stderr",
          "text": [
            "\n",
            "48it [00:21,  2.19it/s]"
          ]
        },
        {
          "output_type": "stream",
          "name": "stdout",
          "text": [
            "[81] loss: 2.2891492377966642\n"
          ]
        },
        {
          "output_type": "stream",
          "name": "stderr",
          "text": [
            "\n",
            "48it [00:22,  2.15it/s]"
          ]
        },
        {
          "output_type": "stream",
          "name": "stdout",
          "text": [
            "[82] loss: 2.228895098902285\n"
          ]
        },
        {
          "output_type": "stream",
          "name": "stderr",
          "text": [
            "\n",
            "48it [00:23,  2.07it/s]"
          ]
        },
        {
          "output_type": "stream",
          "name": "stdout",
          "text": [
            "[83] loss: 2.172427611425519\n"
          ]
        },
        {
          "output_type": "stream",
          "name": "stderr",
          "text": [
            "\n",
            "48it [00:21,  2.19it/s]"
          ]
        },
        {
          "output_type": "stream",
          "name": "stdout",
          "text": [
            "[84] loss: 2.1857013572007418\n"
          ]
        },
        {
          "output_type": "stream",
          "name": "stderr",
          "text": [
            "\n",
            "48it [00:22,  2.17it/s]"
          ]
        },
        {
          "output_type": "stream",
          "name": "stdout",
          "text": [
            "[85] loss: 2.2195604238659143\n"
          ]
        },
        {
          "output_type": "stream",
          "name": "stderr",
          "text": [
            "\n",
            "48it [00:21,  2.21it/s]"
          ]
        },
        {
          "output_type": "stream",
          "name": "stdout",
          "text": [
            "[86] loss: 2.2068571262061596\n"
          ]
        },
        {
          "output_type": "stream",
          "name": "stderr",
          "text": [
            "\n",
            "48it [00:21,  2.20it/s]"
          ]
        },
        {
          "output_type": "stream",
          "name": "stdout",
          "text": [
            "[87] loss: 2.208563053049147\n"
          ]
        },
        {
          "output_type": "stream",
          "name": "stderr",
          "text": [
            "\n",
            "48it [00:21,  2.21it/s]"
          ]
        },
        {
          "output_type": "stream",
          "name": "stdout",
          "text": [
            "[88] loss: 2.165441045537591\n"
          ]
        },
        {
          "output_type": "stream",
          "name": "stderr",
          "text": [
            "\n",
            "48it [00:21,  2.21it/s]"
          ]
        },
        {
          "output_type": "stream",
          "name": "stdout",
          "text": [
            "[89] loss: 2.0726401172578335\n"
          ]
        },
        {
          "output_type": "stream",
          "name": "stderr",
          "text": [
            "\n",
            "48it [00:22,  2.17it/s]"
          ]
        },
        {
          "output_type": "stream",
          "name": "stdout",
          "text": [
            "[90] loss: 2.148337110877037\n"
          ]
        },
        {
          "output_type": "stream",
          "name": "stderr",
          "text": [
            "\n",
            "48it [00:21,  2.18it/s]"
          ]
        },
        {
          "output_type": "stream",
          "name": "stdout",
          "text": [
            "[91] loss: 2.121616953983903\n"
          ]
        },
        {
          "output_type": "stream",
          "name": "stderr",
          "text": [
            "\n",
            "48it [00:21,  2.21it/s]"
          ]
        },
        {
          "output_type": "stream",
          "name": "stdout",
          "text": [
            "[92] loss: 2.173292104154825\n"
          ]
        },
        {
          "output_type": "stream",
          "name": "stderr",
          "text": [
            "\n",
            "48it [00:21,  2.20it/s]"
          ]
        },
        {
          "output_type": "stream",
          "name": "stdout",
          "text": [
            "[93] loss: 2.1390607319772243\n"
          ]
        },
        {
          "output_type": "stream",
          "name": "stderr",
          "text": [
            "\n",
            "48it [00:21,  2.21it/s]"
          ]
        },
        {
          "output_type": "stream",
          "name": "stdout",
          "text": [
            "[94] loss: 2.1733699832111597\n"
          ]
        },
        {
          "output_type": "stream",
          "name": "stderr",
          "text": [
            "\n",
            "48it [00:21,  2.21it/s]"
          ]
        },
        {
          "output_type": "stream",
          "name": "stdout",
          "text": [
            "[95] loss: 2.1351941358298063\n"
          ]
        },
        {
          "output_type": "stream",
          "name": "stderr",
          "text": [
            "\n",
            "48it [00:22,  2.10it/s]"
          ]
        },
        {
          "output_type": "stream",
          "name": "stdout",
          "text": [
            "[96] loss: 2.180238009430468\n"
          ]
        },
        {
          "output_type": "stream",
          "name": "stderr",
          "text": [
            "\n",
            "48it [00:21,  2.20it/s]"
          ]
        },
        {
          "output_type": "stream",
          "name": "stdout",
          "text": [
            "[97] loss: 2.0880097206681967\n"
          ]
        },
        {
          "output_type": "stream",
          "name": "stderr",
          "text": [
            "\n",
            "48it [00:21,  2.20it/s]"
          ]
        },
        {
          "output_type": "stream",
          "name": "stdout",
          "text": [
            "[98] loss: 2.1252084095031023\n"
          ]
        },
        {
          "output_type": "stream",
          "name": "stderr",
          "text": [
            "\n",
            "48it [00:21,  2.19it/s]"
          ]
        },
        {
          "output_type": "stream",
          "name": "stdout",
          "text": [
            "[99] loss: 2.1347595592960715\n"
          ]
        },
        {
          "output_type": "stream",
          "name": "stderr",
          "text": [
            "\n",
            "48it [00:21,  2.21it/s]\n"
          ]
        },
        {
          "output_type": "stream",
          "name": "stdout",
          "text": [
            "[100] loss: 2.12747361138463\n",
            "Finished Training\n"
          ]
        }
      ]
    },
    {
      "cell_type": "code",
      "source": [
        "def evaluate(prediction, ground_truth, mask, report=False):\n",
        "    assert ground_truth.shape == prediction.shape, 'shape mis-match'\n",
        "    performance = {}\n",
        "    performance['mse'] = np.linalg.norm((prediction - ground_truth) * mask)**2\\\n",
        "        / np.sum(mask)\n",
        "    mrr_top = 0.0\n",
        "    all_miss_days_top = 0\n",
        "    bt_long = 1.0\n",
        "    bt_long5 = 1.0\n",
        "    bt_long10 = 1.0\n",
        "\n",
        "    for i in range(prediction.shape[1]):\n",
        "        rank_gt = np.argsort(ground_truth[:, i])\n",
        "        gt_top1 = set()\n",
        "        gt_top5 = set()\n",
        "        gt_top10 = set()\n",
        "        for j in range(1, prediction.shape[0] + 1):\n",
        "            cur_rank = rank_gt[-1 * j]\n",
        "            if mask[cur_rank][i] < 0.5:\n",
        "                continue\n",
        "            if len(gt_top1) < 1:\n",
        "                gt_top1.add(cur_rank)\n",
        "            if len(gt_top5) < 5:\n",
        "                gt_top5.add(cur_rank)\n",
        "            if len(gt_top10) < 10:\n",
        "                gt_top10.add(cur_rank)\n",
        "\n",
        "        rank_pre = np.argsort(prediction[:, i])\n",
        "\n",
        "        pre_top1 = set()\n",
        "        pre_top5 = set()\n",
        "        pre_top10 = set()\n",
        "        for j in range(1, prediction.shape[0] + 1):\n",
        "            cur_rank = rank_pre[-1 * j]\n",
        "            if mask[cur_rank][i] < 0.5:\n",
        "                continue\n",
        "            if len(pre_top1) < 1:\n",
        "                pre_top1.add(cur_rank)\n",
        "            if len(pre_top5) < 5:\n",
        "                pre_top5.add(cur_rank)\n",
        "            if len(pre_top10) < 10:\n",
        "                pre_top10.add(cur_rank)\n",
        "\n",
        "        # calculate mrr of top1\n",
        "        top1_pos_in_gt = 0\n",
        "        for j in range(1, prediction.shape[0] + 1):\n",
        "            cur_rank = rank_gt[-1 * j]\n",
        "            if mask[cur_rank][i] < 0.5:\n",
        "                continue\n",
        "            else:\n",
        "                top1_pos_in_gt += 1\n",
        "                if cur_rank in pre_top1:\n",
        "                    break\n",
        "        if top1_pos_in_gt == 0:\n",
        "            all_miss_days_top += 1\n",
        "        else:\n",
        "            mrr_top += 1.0 / top1_pos_in_gt\n",
        "\n",
        "        # back testing on top 1\n",
        "        real_ret_rat_top = ground_truth[list(pre_top1)[0]][i]\n",
        "        bt_long += real_ret_rat_top\n",
        "\n",
        "        # back testing on top 5\n",
        "        real_ret_rat_top5 = 0\n",
        "        for pre in pre_top5:\n",
        "            real_ret_rat_top5 += ground_truth[pre][i]\n",
        "        real_ret_rat_top5 /= 5\n",
        "        bt_long5 += real_ret_rat_top5\n",
        "\n",
        "        # back testing on top 10\n",
        "        real_ret_rat_top10 = 0\n",
        "        for pre in pre_top10:\n",
        "            real_ret_rat_top10 += ground_truth[pre][i]\n",
        "        real_ret_rat_top10 /= 10\n",
        "        bt_long10 += real_ret_rat_top10\n",
        "\n",
        "\n",
        "    performance['mrrt'] = mrr_top / (prediction.shape[1] - all_miss_days_top)\n",
        "    performance['btl'] = bt_long\n",
        "    # performance['btl5'] = bt_long5\n",
        "    # performance['btl10'] = bt_long10\n",
        "    return performance"
      ],
      "metadata": {
        "id": "515jRmhGO1xT"
      },
      "execution_count": 91,
      "outputs": []
    },
    {
      "cell_type": "code",
      "source": [
        "cur_valid_pred = np.zeros([1026, 1008 - 756], dtype=float)\n",
        "cur_valid_gt = np.zeros([1026, 1008 - 756], dtype=float)\n",
        "cur_valid_mask = np.zeros([1026, 1008 - 756], dtype=float )\n",
        "val_loss = 0.0\n",
        "val_reg_loss = 0.0\n",
        "val_rank_loss = 0.0\n",
        "net.eval()\n",
        "for i, data in tqdm(enumerate(testloader, 0)):\n",
        "    # get the inputs; data is a list of [inputs, labels]\n",
        "    # data = data.to(device)\n",
        "    inputs, labels, price, mask = data\n",
        "    inputs = inputs.to(device)\n",
        "    labels = labels.to(device)\n",
        "    price = price.to(device)\n",
        "    mask = mask.to(device)\n",
        "    all_one = torch.ones((inputs.shape[0], 1)).to(device)\n",
        "    # zero the parameter gradients\n",
        "    optimizer.zero_grad()\n",
        "\n",
        "    # forward + backward + optimize\n",
        "    \n",
        "    outputs, output_feature = net(inputs, edge_index)\n",
        "    return_ratio = torch.divide(torch.subtract(outputs, price), price)\n",
        "    val_reg_loss = mse(labels,return_ratio)\n",
        "    pre_pw_dif = torch.subtract(\n",
        "        torch.matmul(return_ratio.T, all_one),\n",
        "        torch.matmul(all_one.T, return_ratio)\n",
        "    )\n",
        "    gt_pw_dif = torch.subtract(\n",
        "        torch.matmul(all_one.T, labels),\n",
        "        torch.matmul(labels.T, all_one)\n",
        "    )\n",
        "    mask_pw = torch.matmul(mask.T, mask)\n",
        "    a = F.relu( torch.multiply( torch.multiply(pre_pw_dif, gt_pw_dif), mask_pw ) )\n",
        "    # print(a.numpy())\n",
        "    val_rank_loss = np.mean(a.cpu().detach().numpy())\n",
        "    val_loss = reg_loss + 0.1 * rank_loss\n",
        "\n",
        "    # print statistics\n",
        "print('val_loss: ', val_loss)\n",
        "print('val_reg_loss: ', val_reg_loss)\n",
        "print('val_rank_loss: ', val_rank_loss)\n",
        "\n",
        "cur_valid_pred = copy.copy(return_ratio)\n",
        "cur_valid_gt = copy.copy(labels)\n",
        "cur_valid_mask = copy.copy(mask)\n",
        "\n",
        "cur_valid_perf = evaluate(cur_valid_pred.cpu().detach().numpy(), cur_valid_gt.cpu().detach().numpy(), cur_valid_mask.cpu().detach().numpy())\n",
        "print('Valid preformance:', cur_valid_perf)"
      ],
      "metadata": {
        "id": "1BNtC_4B8jt9",
        "colab": {
          "base_uri": "https://localhost:8080/"
        },
        "outputId": "f8ddef40-299a-40a3-8d9d-4c8f036c7234"
      },
      "execution_count": 92,
      "outputs": [
        {
          "output_type": "stream",
          "name": "stderr",
          "text": [
            "16it [00:01,  8.32it/s]\n"
          ]
        },
        {
          "output_type": "stream",
          "name": "stdout",
          "text": [
            "val_loss:  tensor(0.0228, grad_fn=<AddBackward0>)\n",
            "val_reg_loss:  tensor(0.0650, grad_fn=<MseLossBackward0>)\n",
            "val_rank_loss:  1.6266454\n",
            "Valid preformance: {'mse': 0.06486740544013098, 'mrrt': 0.21308437339139086, 'btl': -5.745768873835914}\n"
          ]
        }
      ]
    },
    {
      "cell_type": "code",
      "source": [],
      "metadata": {
        "id": "zE2x85SPO4H7"
      },
      "execution_count": null,
      "outputs": []
    }
  ]
}